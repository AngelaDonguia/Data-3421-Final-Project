{
 "cells": [
  {
   "attachments": {},
   "cell_type": "markdown",
   "metadata": {},
   "source": [
    "# Machine Learning Models"
   ]
  },
  {
   "attachments": {},
   "cell_type": "markdown",
   "metadata": {},
   "source": [
    "## Importing Libraries 📚"
   ]
  },
  {
   "cell_type": "code",
   "execution_count": 543,
   "metadata": {},
   "outputs": [],
   "source": [
    "import pandas as pd  \n",
    "import numpy as np\n",
    "from tabulate import tabulate\n",
    "import html\n",
    "\n",
    "import warnings\n",
    "warnings.filterwarnings('ignore')"
   ]
  },
  {
   "attachments": {},
   "cell_type": "markdown",
   "metadata": {},
   "source": [
    "## Loading Data 📕"
   ]
  },
  {
   "cell_type": "code",
   "execution_count": 544,
   "metadata": {},
   "outputs": [],
   "source": [
    "# Loading Data\n",
    "anime_df = pd.read_csv('anime.csv')\n",
    "anime_df_id_genre = anime_df[['anime_id', 'genre']]"
   ]
  },
  {
   "attachments": {},
   "cell_type": "markdown",
   "metadata": {},
   "source": [
    "## Functions 📝"
   ]
  },
  {
   "cell_type": "code",
   "execution_count": 545,
   "metadata": {},
   "outputs": [],
   "source": [
    "# Converts the anime id to the name of the anime\n",
    "def anime_id_to_name(anime_id):\n",
    "    anime_name = anime_df[anime_df['anime_id'] == anime_id]['name'].values[0]\n",
    "    return anime_name\n",
    "\n",
    "# Recommending anime based on the watched anime id\n",
    "def recommend_new_anime(watched_anime_ids, model, recommendation_amount = 10):\n",
    "    watched_anime = anime_df[anime_df['anime_id'].isin(watched_anime_ids)]\n",
    "    watched_anime_features = watched_anime[['genre', 'type', 'episodes', 'members']]\n",
    "    watched_anime_features[['episodes', 'members']] = scaler.transform(watched_anime_features[['episodes', 'members']])\n",
    "    predicted_ratings = model.predict(watched_anime_features)\n",
    "    recommended_anime_ids = anime_df[~anime_df['anime_id'].isin(watched_anime_ids)].sort_values(by='rating', ascending=False).head(recommendation_amount)['anime_id'].values\n",
    "    return recommended_anime_ids\n",
    "\n",
    "\n",
    "def get_anime_recommendation(list, model, recommendation_amount = 10):\n",
    "    # Gets names of watched anime\n",
    "    watched_anime_names = []\n",
    "    for anime_id in watched_anime_ids:\n",
    "        watched_anime_names.append(anime_id_to_name(anime_id))\n",
    "\n",
    "    # Gets watched anime data\n",
    "    watched_anime_data = []\n",
    "    for anime_id in watched_anime_ids:\n",
    "        anime_name = anime_id_to_name(anime_id)\n",
    "        anime_rating = anime_df[anime_df['anime_id'] == anime_id]['rating'].values[0]\n",
    "        anime_genre = anime_df_id_genre[anime_df_id_genre['anime_id'] == anime_id]['genre'].values[0]\n",
    "        watched_anime_data.append([anime_id, anime_name, anime_rating, anime_genre])\n",
    "\n",
    "    # Printing watched anime table\n",
    "    print(\"Watched anime:\")\n",
    "    print(tabulate(watched_anime_data, headers=['Anime ID', 'Anime Name', 'Rating', 'Genere'], tablefmt='pipe'))\n",
    "\n",
    "    # Getting recommended anime data\n",
    "    recommended_anime_ids = recommend_new_anime(list, model, recommendation_amount)\n",
    "    recommended_anime_data = []\n",
    "    for anime_id in recommended_anime_ids:\n",
    "        anime_name = anime_id_to_name(anime_id)\n",
    "        anime_rating = anime_df[anime_df['anime_id'] == anime_id]['rating'].values[0]\n",
    "        anime_genere = anime_df_id_genre[anime_df_id_genre['anime_id'] == anime_id]['genre'].values[0]\n",
    "        recommended_anime_data.append([anime_id, anime_name, anime_rating, anime_genere])\n",
    "\n",
    "    # Printing recommended anime table\n",
    "    print(\"\\nRecommended anime:\")\n",
    "    print(tabulate(recommended_anime_data, headers=['Anime ID', 'Anime Name', 'Rating', 'Genere'], tablefmt='pipe'))"
   ]
  },
  {
   "attachments": {},
   "cell_type": "markdown",
   "metadata": {},
   "source": [
    "## Preprocessing Data 🔬"
   ]
  },
  {
   "attachments": {},
   "cell_type": "markdown",
   "metadata": {},
   "source": [
    "### Decoding HTML Characters"
   ]
  },
  {
   "cell_type": "code",
   "execution_count": 546,
   "metadata": {},
   "outputs": [
    {
     "name": "stdout",
     "output_type": "stream",
     "text": [
      "| Before                                                    | After                                                     |\n",
      "|-----------------------------------------------------------+-----------------------------------------------------------|\n",
      "| Kimi no Na wa.                                            | Kimi no Na wa.                                            |\n",
      "| Fullmetal Alchemist: Brotherhood                          | Fullmetal Alchemist: Brotherhood                          |\n",
      "| Gintama°                                                  | Gintama°                                                  |\n",
      "| Steins;Gate                                               | Steins;Gate                                               |\n",
      "| Gintama&#039;                                             | Gintama'                                                  |\n",
      "| Haikyuu!!: Karasuno Koukou VS Shiratorizawa Gakuen Koukou | Haikyuu!!: Karasuno Koukou VS Shiratorizawa Gakuen Koukou |\n",
      "| Hunter x Hunter (2011)                                    | Hunter x Hunter (2011)                                    |\n",
      "| Ginga Eiyuu Densetsu                                      | Ginga Eiyuu Densetsu                                      |\n",
      "| Gintama Movie: Kanketsu-hen - Yorozuya yo Eien Nare       | Gintama Movie: Kanketsu-hen - Yorozuya yo Eien Nare       |\n",
      "| Gintama&#039;: Enchousen                                  | Gintama': Enchousen                                       |\n"
     ]
    }
   ],
   "source": [
    "# Copying names before converting\n",
    "defective_list = anime_df.copy()\n",
    "\n",
    "# After conversion\n",
    "anime_df['name'] = anime_df['name'].apply(html.unescape) \n",
    "\n",
    "# Making a table to compare the names before and after conversion\n",
    "unescape_data = []\n",
    "for i in range(10):\n",
    "    unescape_data.append([defective_list['name'][i], anime_df['name'][i]])\n",
    "    \n",
    "print(tabulate(unescape_data, headers=['Before', 'After'], tablefmt='orgtbl'))"
   ]
  },
  {
   "attachments": {},
   "cell_type": "markdown",
   "metadata": {},
   "source": [
    "### Filtering N/A, Unkown, and Empty Values"
   ]
  },
  {
   "cell_type": "code",
   "execution_count": 547,
   "metadata": {},
   "outputs": [],
   "source": [
    "# Replacing \"Unknown\" with NaN\n",
    "anime_df.replace(\"Unknown\", np.nan, inplace=True)\n",
    "\n",
    "# Filling NaN values with some other value, such as the mean\n",
    "anime_df.fillna(anime_df.mean(), inplace=True)\n",
    "anime_df = anime_df.dropna()\n",
    "anime_df = anime_df[anime_df['type'].isin(['TV', 'Movie', 'OVA'])]\n",
    "anime_df = anime_df[anime_df['members'] > 100]"
   ]
  },
  {
   "attachments": {},
   "cell_type": "markdown",
   "metadata": {},
   "source": [
    "## K-Nearest Neighbors (KNN) 🏃"
   ]
  },
  {
   "cell_type": "code",
   "execution_count": 548,
   "metadata": {},
   "outputs": [],
   "source": [
    "from sklearn.neighbors import KNeighborsRegressor\n",
    "from sklearn.preprocessing import LabelEncoder, StandardScaler\n",
    "from sklearn.model_selection import train_test_split"
   ]
  },
  {
   "cell_type": "code",
   "execution_count": 549,
   "metadata": {},
   "outputs": [],
   "source": [
    "# Scaling numerical variables\n",
    "scaler = StandardScaler()\n",
    "anime_df[['episodes', 'members']] = scaler.fit_transform(anime_df[['episodes', 'members']])\n",
    "\n",
    "# Encoding categorical variables\n",
    "le = LabelEncoder()\n",
    "anime_df['genre'] = le.fit_transform(anime_df['genre'])\n",
    "anime_df['type'] = le.fit_transform(anime_df['type'])\n",
    "\n",
    "# Scaling numerical variables\n",
    "scaler = StandardScaler()\n",
    "anime_df[['episodes', 'members']] = scaler.fit_transform(anime_df[['episodes', 'members']])\n",
    "\n",
    "# Spliting the dataset into training and testing sets\n",
    "X_train, X_test, y_train, y_test = train_test_split(anime_df[['genre', 'type', 'episodes', 'members']], anime_df['rating'], test_size=0.2, random_state=42)"
   ]
  },
  {
   "attachments": {},
   "cell_type": "markdown",
   "metadata": {},
   "source": [
    "### Training Model 💪"
   ]
  },
  {
   "cell_type": "code",
   "execution_count": 550,
   "metadata": {},
   "outputs": [
    {
     "data": {
      "text/html": [
       "<style>#sk-container-id-59 {color: black;background-color: white;}#sk-container-id-59 pre{padding: 0;}#sk-container-id-59 div.sk-toggleable {background-color: white;}#sk-container-id-59 label.sk-toggleable__label {cursor: pointer;display: block;width: 100%;margin-bottom: 0;padding: 0.3em;box-sizing: border-box;text-align: center;}#sk-container-id-59 label.sk-toggleable__label-arrow:before {content: \"▸\";float: left;margin-right: 0.25em;color: #696969;}#sk-container-id-59 label.sk-toggleable__label-arrow:hover:before {color: black;}#sk-container-id-59 div.sk-estimator:hover label.sk-toggleable__label-arrow:before {color: black;}#sk-container-id-59 div.sk-toggleable__content {max-height: 0;max-width: 0;overflow: hidden;text-align: left;background-color: #f0f8ff;}#sk-container-id-59 div.sk-toggleable__content pre {margin: 0.2em;color: black;border-radius: 0.25em;background-color: #f0f8ff;}#sk-container-id-59 input.sk-toggleable__control:checked~div.sk-toggleable__content {max-height: 200px;max-width: 100%;overflow: auto;}#sk-container-id-59 input.sk-toggleable__control:checked~label.sk-toggleable__label-arrow:before {content: \"▾\";}#sk-container-id-59 div.sk-estimator input.sk-toggleable__control:checked~label.sk-toggleable__label {background-color: #d4ebff;}#sk-container-id-59 div.sk-label input.sk-toggleable__control:checked~label.sk-toggleable__label {background-color: #d4ebff;}#sk-container-id-59 input.sk-hidden--visually {border: 0;clip: rect(1px 1px 1px 1px);clip: rect(1px, 1px, 1px, 1px);height: 1px;margin: -1px;overflow: hidden;padding: 0;position: absolute;width: 1px;}#sk-container-id-59 div.sk-estimator {font-family: monospace;background-color: #f0f8ff;border: 1px dotted black;border-radius: 0.25em;box-sizing: border-box;margin-bottom: 0.5em;}#sk-container-id-59 div.sk-estimator:hover {background-color: #d4ebff;}#sk-container-id-59 div.sk-parallel-item::after {content: \"\";width: 100%;border-bottom: 1px solid gray;flex-grow: 1;}#sk-container-id-59 div.sk-label:hover label.sk-toggleable__label {background-color: #d4ebff;}#sk-container-id-59 div.sk-serial::before {content: \"\";position: absolute;border-left: 1px solid gray;box-sizing: border-box;top: 0;bottom: 0;left: 50%;z-index: 0;}#sk-container-id-59 div.sk-serial {display: flex;flex-direction: column;align-items: center;background-color: white;padding-right: 0.2em;padding-left: 0.2em;position: relative;}#sk-container-id-59 div.sk-item {position: relative;z-index: 1;}#sk-container-id-59 div.sk-parallel {display: flex;align-items: stretch;justify-content: center;background-color: white;position: relative;}#sk-container-id-59 div.sk-item::before, #sk-container-id-59 div.sk-parallel-item::before {content: \"\";position: absolute;border-left: 1px solid gray;box-sizing: border-box;top: 0;bottom: 0;left: 50%;z-index: -1;}#sk-container-id-59 div.sk-parallel-item {display: flex;flex-direction: column;z-index: 1;position: relative;background-color: white;}#sk-container-id-59 div.sk-parallel-item:first-child::after {align-self: flex-end;width: 50%;}#sk-container-id-59 div.sk-parallel-item:last-child::after {align-self: flex-start;width: 50%;}#sk-container-id-59 div.sk-parallel-item:only-child::after {width: 0;}#sk-container-id-59 div.sk-dashed-wrapped {border: 1px dashed gray;margin: 0 0.4em 0.5em 0.4em;box-sizing: border-box;padding-bottom: 0.4em;background-color: white;}#sk-container-id-59 div.sk-label label {font-family: monospace;font-weight: bold;display: inline-block;line-height: 1.2em;}#sk-container-id-59 div.sk-label-container {text-align: center;}#sk-container-id-59 div.sk-container {/* jupyter's `normalize.less` sets `[hidden] { display: none; }` but bootstrap.min.css set `[hidden] { display: none !important; }` so we also need the `!important` here to be able to override the default hidden behavior on the sphinx rendered scikit-learn.org. See: https://github.com/scikit-learn/scikit-learn/issues/21755 */display: inline-block !important;position: relative;}#sk-container-id-59 div.sk-text-repr-fallback {display: none;}</style><div id=\"sk-container-id-59\" class=\"sk-top-container\"><div class=\"sk-text-repr-fallback\"><pre>KNeighborsRegressor()</pre><b>In a Jupyter environment, please rerun this cell to show the HTML representation or trust the notebook. <br />On GitHub, the HTML representation is unable to render, please try loading this page with nbviewer.org.</b></div><div class=\"sk-container\" hidden><div class=\"sk-item\"><div class=\"sk-estimator sk-toggleable\"><input class=\"sk-toggleable__control sk-hidden--visually\" id=\"sk-estimator-id-59\" type=\"checkbox\" checked><label for=\"sk-estimator-id-59\" class=\"sk-toggleable__label sk-toggleable__label-arrow\">KNeighborsRegressor</label><div class=\"sk-toggleable__content\"><pre>KNeighborsRegressor()</pre></div></div></div></div></div>"
      ],
      "text/plain": [
       "KNeighborsRegressor()"
      ]
     },
     "execution_count": 550,
     "metadata": {},
     "output_type": "execute_result"
    }
   ],
   "source": [
    "# Training the KNN model\n",
    "knn_model = KNeighborsRegressor(n_neighbors=5)\n",
    "knn_model.fit(X_train, y_train)"
   ]
  },
  {
   "attachments": {},
   "cell_type": "markdown",
   "metadata": {},
   "source": [
    "### Testing Model 🧪"
   ]
  },
  {
   "attachments": {},
   "cell_type": "markdown",
   "metadata": {},
   "source": [
    "#### Random Selection"
   ]
  },
  {
   "cell_type": "code",
   "execution_count": 551,
   "metadata": {},
   "outputs": [
    {
     "name": "stdout",
     "output_type": "stream",
     "text": [
      "Watched anime:\n",
      "|   Anime ID | Anime Name                                          |   Rating | Genere                                                                       |\n",
      "|-----------:|:----------------------------------------------------|---------:|:-----------------------------------------------------------------------------|\n",
      "|      15335 | Gintama Movie: Kanketsu-hen - Yorozuya yo Eien Nare |     9.1  | Action, Comedy, Historical, Parody, Samurai, Sci-Fi, Shounen                 |\n",
      "|      15417 | Gintama': Enchousen                                 |     9.11 | Action, Comedy, Historical, Parody, Samurai, Sci-Fi, Shounen                 |\n",
      "|       4181 | Clannad: After Story                                |     9.06 | Drama, Fantasy, Romance, Slice of Life, Supernatural                         |\n",
      "|      28851 | Koe no Katachi                                      |     9.05 | Drama, School, Shounen                                                       |\n",
      "|        918 | Gintama                                             |     9.04 | Action, Comedy, Historical, Parody, Samurai, Sci-Fi, Shounen                 |\n",
      "|       2904 | Code Geass: Hangyaku no Lelouch R2                  |     8.98 | Action, Drama, Mecha, Military, Sci-Fi, Super Power                          |\n",
      "|      28891 | Haikyuu!! Second Season                             |     8.93 | Comedy, Drama, School, Shounen, Sports                                       |\n",
      "|        199 | Sen to Chihiro no Kamikakushi                       |     8.93 | Adventure, Drama, Supernatural                                               |\n",
      "|      23273 | Shigatsu wa Kimi no Uso                             |     8.92 | Drama, Music, Romance, School, Shounen                                       |\n",
      "|      24701 | Mushishi Zoku Shou 2nd Season                       |     8.88 | Adventure, Fantasy, Historical, Mystery, Seinen, Slice of Life, Supernatural |\n",
      "|      12355 | Ookami Kodomo no Ame to Yuki                        |     8.84 | Fantasy, Slice of Life                                                       |\n",
      "|       1575 | Code Geass: Hangyaku no Lelouch                     |     8.83 | Action, Mecha, Military, School, Sci-Fi, Super Power                         |\n",
      "|        263 | Hajime no Ippo                                      |     8.83 | Comedy, Drama, Shounen, Sports                                               |\n",
      "\n",
      "Recommended anime:\n",
      "|   Anime ID | Anime Name                                                |   Rating | Genere                                                       |\n",
      "|-----------:|:----------------------------------------------------------|---------:|:-------------------------------------------------------------|\n",
      "|      32281 | Kimi no Na wa.                                            |     9.37 | Drama, Romance, School, Supernatural                         |\n",
      "|       5114 | Fullmetal Alchemist: Brotherhood                          |     9.26 | Action, Adventure, Drama, Fantasy, Magic, Military, Shounen  |\n",
      "|      28977 | Gintama°                                                  |     9.25 | Action, Comedy, Historical, Parody, Samurai, Sci-Fi, Shounen |\n",
      "|       9253 | Steins;Gate                                               |     9.17 | Sci-Fi, Thriller                                             |\n",
      "|       9969 | Gintama'                                                  |     9.16 | Action, Comedy, Historical, Parody, Samurai, Sci-Fi, Shounen |\n",
      "|      32935 | Haikyuu!!: Karasuno Koukou VS Shiratorizawa Gakuen Koukou |     9.15 | Comedy, Drama, School, Shounen, Sports                       |\n",
      "|      11061 | Hunter x Hunter (2011)                                    |     9.13 | Action, Adventure, Shounen, Super Power                      |\n",
      "|        820 | Ginga Eiyuu Densetsu                                      |     9.11 | Drama, Military, Sci-Fi, Space                               |\n",
      "|         44 | Rurouni Kenshin: Meiji Kenkaku Romantan - Tsuioku-hen     |     8.83 | Action, Drama, Historical, Martial Arts, Romance, Samurai    |\n",
      "|          1 | Cowboy Bebop                                              |     8.82 | Action, Adventure, Comedy, Drama, Sci-Fi, Space              |\n"
     ]
    }
   ],
   "source": [
    "watched_anime_ids = [15335, 15417, 4181, 28851, 918, 2904, 28891, 199, 23273, 24701, 12355, 1575, 263]\n",
    "get_anime_recommendation(watched_anime_ids, knn_model)"
   ]
  },
  {
   "attachments": {},
   "cell_type": "markdown",
   "metadata": {},
   "source": [
    "#### Action Anime Selection"
   ]
  },
  {
   "cell_type": "code",
   "execution_count": 552,
   "metadata": {},
   "outputs": [
    {
     "name": "stdout",
     "output_type": "stream",
     "text": [
      "Watched anime:\n",
      "|   Anime ID | Anime Name                              |   Rating | Genere                                                  |\n",
      "|-----------:|:----------------------------------------|---------:|:--------------------------------------------------------|\n",
      "|         20 | Naruto                                  |     7.81 | Action, Comedy, Martial Arts, Shounen, Super Power      |\n",
      "|       4155 | One Piece Film: Strong World            |     8.42 | Action, Adventure, Comedy, Drama, Fantasy, Shounen      |\n",
      "|      13601 | Psycho-Pass                             |     8.5  | Action, Police, Psychological, Sci-Fi                   |\n",
      "|      18115 | Magi: The Kingdom of Magic              |     8.5  | Action, Adventure, Fantasy, Magic, Shounen              |\n",
      "|        205 | Samurai Champloo                        |     8.5  | Action, Adventure, Comedy, Historical, Samurai, Shounen |\n",
      "|       6594 | Katanagatari                            |     8.49 | Action, Adventure, Historical, Martial Arts, Romance    |\n",
      "|        136 | Hunter x Hunter                         |     8.48 | Action, Adventure, Shounen, Super Power                 |\n",
      "|      30503 | Noragami Aragoto                        |     8.48 | Action, Adventure, Shounen, Supernatural                |\n",
      "|        467 | Ghost in the Shell: Stand Alone Complex |     8.47 | Action, Mecha, Military, Police, Sci-Fi, Seinen         |\n",
      "|        486 | Kino no Tabi: The Beautiful World       |     8.46 | Action, Adventure, Slice of Life                        |\n",
      "\n",
      "Recommended anime:\n",
      "|   Anime ID | Anime Name                                                |   Rating | Genere                                                       |\n",
      "|-----------:|:----------------------------------------------------------|---------:|:-------------------------------------------------------------|\n",
      "|      32281 | Kimi no Na wa.                                            |     9.37 | Drama, Romance, School, Supernatural                         |\n",
      "|       5114 | Fullmetal Alchemist: Brotherhood                          |     9.26 | Action, Adventure, Drama, Fantasy, Magic, Military, Shounen  |\n",
      "|      28977 | Gintama°                                                  |     9.25 | Action, Comedy, Historical, Parody, Samurai, Sci-Fi, Shounen |\n",
      "|       9253 | Steins;Gate                                               |     9.17 | Sci-Fi, Thriller                                             |\n",
      "|       9969 | Gintama'                                                  |     9.16 | Action, Comedy, Historical, Parody, Samurai, Sci-Fi, Shounen |\n",
      "|      32935 | Haikyuu!!: Karasuno Koukou VS Shiratorizawa Gakuen Koukou |     9.15 | Comedy, Drama, School, Shounen, Sports                       |\n",
      "|      11061 | Hunter x Hunter (2011)                                    |     9.13 | Action, Adventure, Shounen, Super Power                      |\n",
      "|        820 | Ginga Eiyuu Densetsu                                      |     9.11 | Drama, Military, Sci-Fi, Space                               |\n",
      "|      15417 | Gintama': Enchousen                                       |     9.11 | Action, Comedy, Historical, Parody, Samurai, Sci-Fi, Shounen |\n",
      "|      15335 | Gintama Movie: Kanketsu-hen - Yorozuya yo Eien Nare       |     9.1  | Action, Comedy, Historical, Parody, Samurai, Sci-Fi, Shounen |\n"
     ]
    }
   ],
   "source": [
    "watched_anime_ids = [20, 4155, 13601, 18115, 205, 6594, 136, 30503, 467, 486]\n",
    "get_anime_recommendation(watched_anime_ids, knn_model)"
   ]
  },
  {
   "attachments": {},
   "cell_type": "markdown",
   "metadata": {},
   "source": [
    "## Decision Tree 🌳"
   ]
  },
  {
   "cell_type": "code",
   "execution_count": 553,
   "metadata": {},
   "outputs": [],
   "source": [
    "from sklearn.tree import DecisionTreeRegressor\n",
    "from sklearn.preprocessing import LabelEncoder, StandardScaler\n",
    "from sklearn.model_selection import train_test_split"
   ]
  },
  {
   "cell_type": "markdown",
   "metadata": {},
   "source": [
    "### Training Model 💪"
   ]
  },
  {
   "cell_type": "code",
   "execution_count": 554,
   "metadata": {},
   "outputs": [
    {
     "data": {
      "text/html": [
       "<style>#sk-container-id-60 {color: black;background-color: white;}#sk-container-id-60 pre{padding: 0;}#sk-container-id-60 div.sk-toggleable {background-color: white;}#sk-container-id-60 label.sk-toggleable__label {cursor: pointer;display: block;width: 100%;margin-bottom: 0;padding: 0.3em;box-sizing: border-box;text-align: center;}#sk-container-id-60 label.sk-toggleable__label-arrow:before {content: \"▸\";float: left;margin-right: 0.25em;color: #696969;}#sk-container-id-60 label.sk-toggleable__label-arrow:hover:before {color: black;}#sk-container-id-60 div.sk-estimator:hover label.sk-toggleable__label-arrow:before {color: black;}#sk-container-id-60 div.sk-toggleable__content {max-height: 0;max-width: 0;overflow: hidden;text-align: left;background-color: #f0f8ff;}#sk-container-id-60 div.sk-toggleable__content pre {margin: 0.2em;color: black;border-radius: 0.25em;background-color: #f0f8ff;}#sk-container-id-60 input.sk-toggleable__control:checked~div.sk-toggleable__content {max-height: 200px;max-width: 100%;overflow: auto;}#sk-container-id-60 input.sk-toggleable__control:checked~label.sk-toggleable__label-arrow:before {content: \"▾\";}#sk-container-id-60 div.sk-estimator input.sk-toggleable__control:checked~label.sk-toggleable__label {background-color: #d4ebff;}#sk-container-id-60 div.sk-label input.sk-toggleable__control:checked~label.sk-toggleable__label {background-color: #d4ebff;}#sk-container-id-60 input.sk-hidden--visually {border: 0;clip: rect(1px 1px 1px 1px);clip: rect(1px, 1px, 1px, 1px);height: 1px;margin: -1px;overflow: hidden;padding: 0;position: absolute;width: 1px;}#sk-container-id-60 div.sk-estimator {font-family: monospace;background-color: #f0f8ff;border: 1px dotted black;border-radius: 0.25em;box-sizing: border-box;margin-bottom: 0.5em;}#sk-container-id-60 div.sk-estimator:hover {background-color: #d4ebff;}#sk-container-id-60 div.sk-parallel-item::after {content: \"\";width: 100%;border-bottom: 1px solid gray;flex-grow: 1;}#sk-container-id-60 div.sk-label:hover label.sk-toggleable__label {background-color: #d4ebff;}#sk-container-id-60 div.sk-serial::before {content: \"\";position: absolute;border-left: 1px solid gray;box-sizing: border-box;top: 0;bottom: 0;left: 50%;z-index: 0;}#sk-container-id-60 div.sk-serial {display: flex;flex-direction: column;align-items: center;background-color: white;padding-right: 0.2em;padding-left: 0.2em;position: relative;}#sk-container-id-60 div.sk-item {position: relative;z-index: 1;}#sk-container-id-60 div.sk-parallel {display: flex;align-items: stretch;justify-content: center;background-color: white;position: relative;}#sk-container-id-60 div.sk-item::before, #sk-container-id-60 div.sk-parallel-item::before {content: \"\";position: absolute;border-left: 1px solid gray;box-sizing: border-box;top: 0;bottom: 0;left: 50%;z-index: -1;}#sk-container-id-60 div.sk-parallel-item {display: flex;flex-direction: column;z-index: 1;position: relative;background-color: white;}#sk-container-id-60 div.sk-parallel-item:first-child::after {align-self: flex-end;width: 50%;}#sk-container-id-60 div.sk-parallel-item:last-child::after {align-self: flex-start;width: 50%;}#sk-container-id-60 div.sk-parallel-item:only-child::after {width: 0;}#sk-container-id-60 div.sk-dashed-wrapped {border: 1px dashed gray;margin: 0 0.4em 0.5em 0.4em;box-sizing: border-box;padding-bottom: 0.4em;background-color: white;}#sk-container-id-60 div.sk-label label {font-family: monospace;font-weight: bold;display: inline-block;line-height: 1.2em;}#sk-container-id-60 div.sk-label-container {text-align: center;}#sk-container-id-60 div.sk-container {/* jupyter's `normalize.less` sets `[hidden] { display: none; }` but bootstrap.min.css set `[hidden] { display: none !important; }` so we also need the `!important` here to be able to override the default hidden behavior on the sphinx rendered scikit-learn.org. See: https://github.com/scikit-learn/scikit-learn/issues/21755 */display: inline-block !important;position: relative;}#sk-container-id-60 div.sk-text-repr-fallback {display: none;}</style><div id=\"sk-container-id-60\" class=\"sk-top-container\"><div class=\"sk-text-repr-fallback\"><pre>DecisionTreeRegressor()</pre><b>In a Jupyter environment, please rerun this cell to show the HTML representation or trust the notebook. <br />On GitHub, the HTML representation is unable to render, please try loading this page with nbviewer.org.</b></div><div class=\"sk-container\" hidden><div class=\"sk-item\"><div class=\"sk-estimator sk-toggleable\"><input class=\"sk-toggleable__control sk-hidden--visually\" id=\"sk-estimator-id-60\" type=\"checkbox\" checked><label for=\"sk-estimator-id-60\" class=\"sk-toggleable__label sk-toggleable__label-arrow\">DecisionTreeRegressor</label><div class=\"sk-toggleable__content\"><pre>DecisionTreeRegressor()</pre></div></div></div></div></div>"
      ],
      "text/plain": [
       "DecisionTreeRegressor()"
      ]
     },
     "execution_count": 554,
     "metadata": {},
     "output_type": "execute_result"
    }
   ],
   "source": [
    "# Scaling numerical variables\n",
    "scaler = StandardScaler()\n",
    "anime_df[['episodes', 'members']] = scaler.fit_transform(anime_df[['episodes', 'members']])\n",
    "# Encoding categorical variables\n",
    "le = LabelEncoder()\n",
    "anime_df['genre'] = le.fit_transform(anime_df['genre'])\n",
    "anime_df['type'] = le.fit_transform(anime_df['type'])\n",
    "    \n",
    "# Spliting the dataset into training and testing sets\n",
    "X_train, X_test, y_train, y_test = train_test_split(anime_df[['genre', 'type', 'episodes', 'members']], anime_df['rating'], test_size=0.5, random_state=48)\n",
    " \n",
    "# Training the Decision Tree model\n",
    "dt_model = DecisionTreeRegressor()\n",
    "dt_model.fit(X_train, y_train)"
   ]
  },
  {
   "cell_type": "markdown",
   "metadata": {},
   "source": [
    "### Testing Model 🧪"
   ]
  },
  {
   "cell_type": "markdown",
   "metadata": {},
   "source": [
    "#### Random Selection"
   ]
  },
  {
   "cell_type": "code",
   "execution_count": 561,
   "metadata": {},
   "outputs": [
    {
     "name": "stdout",
     "output_type": "stream",
     "text": [
      "Watched anime:\n",
      "|   Anime ID | Anime Name                         |   Rating | Genere                                                                       |\n",
      "|-----------:|:-----------------------------------|---------:|:-----------------------------------------------------------------------------|\n",
      "|      12355 | Ookami Kodomo no Ame to Yuki       |     8.84 | Fantasy, Slice of Life                                                       |\n",
      "|       1575 | Code Geass: Hangyaku no Lelouch    |     8.83 | Action, Mecha, Military, School, Sci-Fi, Super Power                         |\n",
      "|        263 | Hajime no Ippo                     |     8.83 | Comedy, Drama, Shounen, Sports                                               |\n",
      "|      28851 | Koe no Katachi                     |     9.05 | Drama, School, Shounen                                                       |\n",
      "|        918 | Gintama                            |     9.04 | Action, Comedy, Historical, Parody, Samurai, Sci-Fi, Shounen                 |\n",
      "|       2904 | Code Geass: Hangyaku no Lelouch R2 |     8.98 | Action, Drama, Mecha, Military, Sci-Fi, Super Power                          |\n",
      "|      28891 | Haikyuu!! Second Season            |     8.93 | Comedy, Drama, School, Shounen, Sports                                       |\n",
      "|        199 | Sen to Chihiro no Kamikakushi      |     8.93 | Adventure, Drama, Supernatural                                               |\n",
      "|      23273 | Shigatsu wa Kimi no Uso            |     8.92 | Drama, Music, Romance, School, Shounen                                       |\n",
      "|      24701 | Mushishi Zoku Shou 2nd Season      |     8.88 | Adventure, Fantasy, Historical, Mystery, Seinen, Slice of Life, Supernatural |\n",
      "\n",
      "Recommended anime:\n",
      "|   Anime ID | Anime Name                                                |   Rating | Genere                                                       |\n",
      "|-----------:|:----------------------------------------------------------|---------:|:-------------------------------------------------------------|\n",
      "|      32281 | Kimi no Na wa.                                            |     9.37 | Drama, Romance, School, Supernatural                         |\n",
      "|       5114 | Fullmetal Alchemist: Brotherhood                          |     9.26 | Action, Adventure, Drama, Fantasy, Magic, Military, Shounen  |\n",
      "|      28977 | Gintama°                                                  |     9.25 | Action, Comedy, Historical, Parody, Samurai, Sci-Fi, Shounen |\n",
      "|       9253 | Steins;Gate                                               |     9.17 | Sci-Fi, Thriller                                             |\n",
      "|       9969 | Gintama'                                                  |     9.16 | Action, Comedy, Historical, Parody, Samurai, Sci-Fi, Shounen |\n",
      "|      32935 | Haikyuu!!: Karasuno Koukou VS Shiratorizawa Gakuen Koukou |     9.15 | Comedy, Drama, School, Shounen, Sports                       |\n",
      "|      11061 | Hunter x Hunter (2011)                                    |     9.13 | Action, Adventure, Shounen, Super Power                      |\n",
      "|        820 | Ginga Eiyuu Densetsu                                      |     9.11 | Drama, Military, Sci-Fi, Space                               |\n",
      "|      15417 | Gintama': Enchousen                                       |     9.11 | Action, Comedy, Historical, Parody, Samurai, Sci-Fi, Shounen |\n",
      "|      15335 | Gintama Movie: Kanketsu-hen - Yorozuya yo Eien Nare       |     9.1  | Action, Comedy, Historical, Parody, Samurai, Sci-Fi, Shounen |\n"
     ]
    }
   ],
   "source": [
    "watched_anime_ids = [12355, 1575, 263, 28851, 918, 2904, 28891, 199, 23273, 24701]\n",
    "get_anime_recommendation(watched_anime_ids, dt_model)"
   ]
  },
  {
   "attachments": {},
   "cell_type": "markdown",
   "metadata": {},
   "source": [
    "#### Adventure Anime Selection"
   ]
  },
  {
   "cell_type": "code",
   "execution_count": 556,
   "metadata": {},
   "outputs": [
    {
     "name": "stdout",
     "output_type": "stream",
     "text": [
      "Watched anime:\n",
      "|   Anime ID | Anime Name                                   |   Rating | Genere                                                    |\n",
      "|-----------:|:---------------------------------------------|---------:|:----------------------------------------------------------|\n",
      "|         47 | Akira                                        |     8.15 | Action, Adventure, Horror, Military, Sci-Fi, Supernatural |\n",
      "|        589 | Ginga Nagareboshi Gin                        |     8.14 | Action, Adventure, Drama, Shounen                         |\n",
      "|      17265 | Log Horizon                                  |     8.14 | Action, Adventure, Fantasy, Game, Magic, Shounen          |\n",
      "|        535 | Slayers Next                                 |     8.14 | Adventure, Comedy, Demons, Fantasy, Magic                 |\n",
      "|       9963 | Detective Conan Movie 15: Quarter of Silence |     8.13 | Adventure, Comedy, Mystery, Police, Shounen               |\n",
      "|      32551 | Digimon Adventure tri. 3: Kokuhaku           |     8.13 | Action, Adventure, Comedy, Drama                          |\n",
      "\n",
      "Recommended anime:\n",
      "|   Anime ID | Anime Name                                                |   Rating | Genere                                                       |\n",
      "|-----------:|:----------------------------------------------------------|---------:|:-------------------------------------------------------------|\n",
      "|      32281 | Kimi no Na wa.                                            |     9.37 | Drama, Romance, School, Supernatural                         |\n",
      "|       5114 | Fullmetal Alchemist: Brotherhood                          |     9.26 | Action, Adventure, Drama, Fantasy, Magic, Military, Shounen  |\n",
      "|      28977 | Gintama°                                                  |     9.25 | Action, Comedy, Historical, Parody, Samurai, Sci-Fi, Shounen |\n",
      "|       9253 | Steins;Gate                                               |     9.17 | Sci-Fi, Thriller                                             |\n",
      "|       9969 | Gintama'                                                  |     9.16 | Action, Comedy, Historical, Parody, Samurai, Sci-Fi, Shounen |\n",
      "|      32935 | Haikyuu!!: Karasuno Koukou VS Shiratorizawa Gakuen Koukou |     9.15 | Comedy, Drama, School, Shounen, Sports                       |\n",
      "|      11061 | Hunter x Hunter (2011)                                    |     9.13 | Action, Adventure, Shounen, Super Power                      |\n",
      "|        820 | Ginga Eiyuu Densetsu                                      |     9.11 | Drama, Military, Sci-Fi, Space                               |\n",
      "|      15417 | Gintama': Enchousen                                       |     9.11 | Action, Comedy, Historical, Parody, Samurai, Sci-Fi, Shounen |\n",
      "|      15335 | Gintama Movie: Kanketsu-hen - Yorozuya yo Eien Nare       |     9.1  | Action, Comedy, Historical, Parody, Samurai, Sci-Fi, Shounen |\n"
     ]
    }
   ],
   "source": [
    "watched_anime_ids = [47, 589, 17265, 535, 9963, 32551]\n",
    "get_anime_recommendation(watched_anime_ids, dt_model)"
   ]
  },
  {
   "attachments": {},
   "cell_type": "markdown",
   "metadata": {},
   "source": [
    "## Support Vector Machine (SVM) 🤖"
   ]
  },
  {
   "cell_type": "code",
   "execution_count": 557,
   "metadata": {},
   "outputs": [],
   "source": [
    "from sklearn.svm import SVR\n",
    "from sklearn.preprocessing import LabelEncoder, StandardScaler\n",
    "from sklearn.model_selection import train_test_split"
   ]
  },
  {
   "cell_type": "markdown",
   "metadata": {},
   "source": [
    "### Training Model 💪"
   ]
  },
  {
   "cell_type": "code",
   "execution_count": 558,
   "metadata": {},
   "outputs": [
    {
     "data": {
      "text/html": [
       "<style>#sk-container-id-61 {color: black;background-color: white;}#sk-container-id-61 pre{padding: 0;}#sk-container-id-61 div.sk-toggleable {background-color: white;}#sk-container-id-61 label.sk-toggleable__label {cursor: pointer;display: block;width: 100%;margin-bottom: 0;padding: 0.3em;box-sizing: border-box;text-align: center;}#sk-container-id-61 label.sk-toggleable__label-arrow:before {content: \"▸\";float: left;margin-right: 0.25em;color: #696969;}#sk-container-id-61 label.sk-toggleable__label-arrow:hover:before {color: black;}#sk-container-id-61 div.sk-estimator:hover label.sk-toggleable__label-arrow:before {color: black;}#sk-container-id-61 div.sk-toggleable__content {max-height: 0;max-width: 0;overflow: hidden;text-align: left;background-color: #f0f8ff;}#sk-container-id-61 div.sk-toggleable__content pre {margin: 0.2em;color: black;border-radius: 0.25em;background-color: #f0f8ff;}#sk-container-id-61 input.sk-toggleable__control:checked~div.sk-toggleable__content {max-height: 200px;max-width: 100%;overflow: auto;}#sk-container-id-61 input.sk-toggleable__control:checked~label.sk-toggleable__label-arrow:before {content: \"▾\";}#sk-container-id-61 div.sk-estimator input.sk-toggleable__control:checked~label.sk-toggleable__label {background-color: #d4ebff;}#sk-container-id-61 div.sk-label input.sk-toggleable__control:checked~label.sk-toggleable__label {background-color: #d4ebff;}#sk-container-id-61 input.sk-hidden--visually {border: 0;clip: rect(1px 1px 1px 1px);clip: rect(1px, 1px, 1px, 1px);height: 1px;margin: -1px;overflow: hidden;padding: 0;position: absolute;width: 1px;}#sk-container-id-61 div.sk-estimator {font-family: monospace;background-color: #f0f8ff;border: 1px dotted black;border-radius: 0.25em;box-sizing: border-box;margin-bottom: 0.5em;}#sk-container-id-61 div.sk-estimator:hover {background-color: #d4ebff;}#sk-container-id-61 div.sk-parallel-item::after {content: \"\";width: 100%;border-bottom: 1px solid gray;flex-grow: 1;}#sk-container-id-61 div.sk-label:hover label.sk-toggleable__label {background-color: #d4ebff;}#sk-container-id-61 div.sk-serial::before {content: \"\";position: absolute;border-left: 1px solid gray;box-sizing: border-box;top: 0;bottom: 0;left: 50%;z-index: 0;}#sk-container-id-61 div.sk-serial {display: flex;flex-direction: column;align-items: center;background-color: white;padding-right: 0.2em;padding-left: 0.2em;position: relative;}#sk-container-id-61 div.sk-item {position: relative;z-index: 1;}#sk-container-id-61 div.sk-parallel {display: flex;align-items: stretch;justify-content: center;background-color: white;position: relative;}#sk-container-id-61 div.sk-item::before, #sk-container-id-61 div.sk-parallel-item::before {content: \"\";position: absolute;border-left: 1px solid gray;box-sizing: border-box;top: 0;bottom: 0;left: 50%;z-index: -1;}#sk-container-id-61 div.sk-parallel-item {display: flex;flex-direction: column;z-index: 1;position: relative;background-color: white;}#sk-container-id-61 div.sk-parallel-item:first-child::after {align-self: flex-end;width: 50%;}#sk-container-id-61 div.sk-parallel-item:last-child::after {align-self: flex-start;width: 50%;}#sk-container-id-61 div.sk-parallel-item:only-child::after {width: 0;}#sk-container-id-61 div.sk-dashed-wrapped {border: 1px dashed gray;margin: 0 0.4em 0.5em 0.4em;box-sizing: border-box;padding-bottom: 0.4em;background-color: white;}#sk-container-id-61 div.sk-label label {font-family: monospace;font-weight: bold;display: inline-block;line-height: 1.2em;}#sk-container-id-61 div.sk-label-container {text-align: center;}#sk-container-id-61 div.sk-container {/* jupyter's `normalize.less` sets `[hidden] { display: none; }` but bootstrap.min.css set `[hidden] { display: none !important; }` so we also need the `!important` here to be able to override the default hidden behavior on the sphinx rendered scikit-learn.org. See: https://github.com/scikit-learn/scikit-learn/issues/21755 */display: inline-block !important;position: relative;}#sk-container-id-61 div.sk-text-repr-fallback {display: none;}</style><div id=\"sk-container-id-61\" class=\"sk-top-container\"><div class=\"sk-text-repr-fallback\"><pre>SVR()</pre><b>In a Jupyter environment, please rerun this cell to show the HTML representation or trust the notebook. <br />On GitHub, the HTML representation is unable to render, please try loading this page with nbviewer.org.</b></div><div class=\"sk-container\" hidden><div class=\"sk-item\"><div class=\"sk-estimator sk-toggleable\"><input class=\"sk-toggleable__control sk-hidden--visually\" id=\"sk-estimator-id-61\" type=\"checkbox\" checked><label for=\"sk-estimator-id-61\" class=\"sk-toggleable__label sk-toggleable__label-arrow\">SVR</label><div class=\"sk-toggleable__content\"><pre>SVR()</pre></div></div></div></div></div>"
      ],
      "text/plain": [
       "SVR()"
      ]
     },
     "execution_count": 558,
     "metadata": {},
     "output_type": "execute_result"
    }
   ],
   "source": [
    "# Scaling numerical variables\n",
    "scaler = StandardScaler()\n",
    "anime_df[['episodes', 'members']] = scaler.fit_transform(anime_df[['episodes', 'members']])\n",
    "\n",
    "# Encoding categorical variables\n",
    "le = LabelEncoder()\n",
    "anime_df['genre'] = le.fit_transform(anime_df['genre'])\n",
    "anime_df['type'] = le.fit_transform(anime_df['type'])\n",
    "    \n",
    "# Spliting the dataset into training and testing sets\n",
    "X_train, X_test, y_train, y_test = train_test_split(anime_df[['genre', 'type', 'episodes', 'members']], anime_df['rating'], test_size=0.2, random_state=58)\n",
    " \n",
    "# Training the Support Vector Machine model\n",
    "svm_model = SVR()\n",
    "svm_model.fit(X_train, y_train)"
   ]
  },
  {
   "cell_type": "markdown",
   "metadata": {},
   "source": [
    "### Testing Model 🧪"
   ]
  },
  {
   "cell_type": "markdown",
   "metadata": {},
   "source": [
    "#### Random Selection"
   ]
  },
  {
   "cell_type": "code",
   "execution_count": 559,
   "metadata": {},
   "outputs": [
    {
     "name": "stdout",
     "output_type": "stream",
     "text": [
      "Watched anime:\n",
      "|   Anime ID | Anime Name                                          |   Rating | Genere                                                                       |\n",
      "|-----------:|:----------------------------------------------------|---------:|:-----------------------------------------------------------------------------|\n",
      "|      15335 | Gintama Movie: Kanketsu-hen - Yorozuya yo Eien Nare |     9.1  | Action, Comedy, Historical, Parody, Samurai, Sci-Fi, Shounen                 |\n",
      "|      15417 | Gintama': Enchousen                                 |     9.11 | Action, Comedy, Historical, Parody, Samurai, Sci-Fi, Shounen                 |\n",
      "|       4181 | Clannad: After Story                                |     9.06 | Drama, Fantasy, Romance, Slice of Life, Supernatural                         |\n",
      "|      28851 | Koe no Katachi                                      |     9.05 | Drama, School, Shounen                                                       |\n",
      "|        918 | Gintama                                             |     9.04 | Action, Comedy, Historical, Parody, Samurai, Sci-Fi, Shounen                 |\n",
      "|       2904 | Code Geass: Hangyaku no Lelouch R2                  |     8.98 | Action, Drama, Mecha, Military, Sci-Fi, Super Power                          |\n",
      "|      28891 | Haikyuu!! Second Season                             |     8.93 | Comedy, Drama, School, Shounen, Sports                                       |\n",
      "|        199 | Sen to Chihiro no Kamikakushi                       |     8.93 | Adventure, Drama, Supernatural                                               |\n",
      "|      23273 | Shigatsu wa Kimi no Uso                             |     8.92 | Drama, Music, Romance, School, Shounen                                       |\n",
      "|      24701 | Mushishi Zoku Shou 2nd Season                       |     8.88 | Adventure, Fantasy, Historical, Mystery, Seinen, Slice of Life, Supernatural |\n",
      "|      12355 | Ookami Kodomo no Ame to Yuki                        |     8.84 | Fantasy, Slice of Life                                                       |\n",
      "|       1575 | Code Geass: Hangyaku no Lelouch                     |     8.83 | Action, Mecha, Military, School, Sci-Fi, Super Power                         |\n",
      "|        263 | Hajime no Ippo                                      |     8.83 | Comedy, Drama, Shounen, Sports                                               |\n",
      "\n",
      "Recommended anime:\n",
      "|   Anime ID | Anime Name                                                |   Rating | Genere                                                       |\n",
      "|-----------:|:----------------------------------------------------------|---------:|:-------------------------------------------------------------|\n",
      "|      32281 | Kimi no Na wa.                                            |     9.37 | Drama, Romance, School, Supernatural                         |\n",
      "|       5114 | Fullmetal Alchemist: Brotherhood                          |     9.26 | Action, Adventure, Drama, Fantasy, Magic, Military, Shounen  |\n",
      "|      28977 | Gintama°                                                  |     9.25 | Action, Comedy, Historical, Parody, Samurai, Sci-Fi, Shounen |\n",
      "|       9253 | Steins;Gate                                               |     9.17 | Sci-Fi, Thriller                                             |\n",
      "|       9969 | Gintama'                                                  |     9.16 | Action, Comedy, Historical, Parody, Samurai, Sci-Fi, Shounen |\n",
      "|      32935 | Haikyuu!!: Karasuno Koukou VS Shiratorizawa Gakuen Koukou |     9.15 | Comedy, Drama, School, Shounen, Sports                       |\n",
      "|      11061 | Hunter x Hunter (2011)                                    |     9.13 | Action, Adventure, Shounen, Super Power                      |\n",
      "|        820 | Ginga Eiyuu Densetsu                                      |     9.11 | Drama, Military, Sci-Fi, Space                               |\n",
      "|         44 | Rurouni Kenshin: Meiji Kenkaku Romantan - Tsuioku-hen     |     8.83 | Action, Drama, Historical, Martial Arts, Romance, Samurai    |\n",
      "|          1 | Cowboy Bebop                                              |     8.82 | Action, Adventure, Comedy, Drama, Sci-Fi, Space              |\n"
     ]
    }
   ],
   "source": [
    "watched_anime_ids = [15335, 15417, 4181, 28851, 918, 2904, 28891, 199, 23273, 24701, 12355, 1575, 263]\n",
    "get_anime_recommendation(watched_anime_ids, svm_model)"
   ]
  },
  {
   "attachments": {},
   "cell_type": "markdown",
   "metadata": {},
   "source": [
    "#### Supernatural Anime Selection"
   ]
  },
  {
   "cell_type": "code",
   "execution_count": 560,
   "metadata": {},
   "outputs": [
    {
     "name": "stdout",
     "output_type": "stream",
     "text": [
      "Watched anime:\n",
      "|   Anime ID | Anime Name                                     |   Rating | Genere                                                                            |\n",
      "|-----------:|:-----------------------------------------------|---------:|:----------------------------------------------------------------------------------|\n",
      "|      21855 | Hanamonogatari                                 |     8.11 | Comedy, Mystery, Supernatural                                                     |\n",
      "|       2154 | Tekkon Kinkreet                                |     8.11 | Action, Adventure, Psychological, Supernatural                                    |\n",
      "|        861 | xxxHOLiC                                       |     8.11 | Comedy, Drama, Mystery, Psychological, Supernatural                               |\n",
      "|      12113 | Berserk: Ougon Jidai-hen II - Doldrey Kouryaku |     8.09 | Action, Adventure, Demons, Drama, Fantasy, Horror, Military, Seinen, Supernatural |\n",
      "|        122 | Full Moon wo Sagashite                         |     8.08 | Comedy, Drama, Music, Romance, Shoujo, Supernatural                               |\n",
      "|       1594 | Jigoku Shoujo Futakomori                       |     8.08 | Horror, Mystery, Psychological, Supernatural                                      |\n",
      "|       3588 | Soul Eater                                     |     8.08 | Action, Adventure, Comedy, Fantasy, Shounen, Supernatural                         |\n",
      "\n",
      "Recommended anime:\n",
      "|   Anime ID | Anime Name                                                |   Rating | Genere                                                       |\n",
      "|-----------:|:----------------------------------------------------------|---------:|:-------------------------------------------------------------|\n",
      "|      32281 | Kimi no Na wa.                                            |     9.37 | Drama, Romance, School, Supernatural                         |\n",
      "|       5114 | Fullmetal Alchemist: Brotherhood                          |     9.26 | Action, Adventure, Drama, Fantasy, Magic, Military, Shounen  |\n",
      "|      28977 | Gintama°                                                  |     9.25 | Action, Comedy, Historical, Parody, Samurai, Sci-Fi, Shounen |\n",
      "|       9253 | Steins;Gate                                               |     9.17 | Sci-Fi, Thriller                                             |\n",
      "|       9969 | Gintama'                                                  |     9.16 | Action, Comedy, Historical, Parody, Samurai, Sci-Fi, Shounen |\n",
      "|      32935 | Haikyuu!!: Karasuno Koukou VS Shiratorizawa Gakuen Koukou |     9.15 | Comedy, Drama, School, Shounen, Sports                       |\n",
      "|      11061 | Hunter x Hunter (2011)                                    |     9.13 | Action, Adventure, Shounen, Super Power                      |\n",
      "|        820 | Ginga Eiyuu Densetsu                                      |     9.11 | Drama, Military, Sci-Fi, Space                               |\n",
      "|      15417 | Gintama': Enchousen                                       |     9.11 | Action, Comedy, Historical, Parody, Samurai, Sci-Fi, Shounen |\n",
      "|      15335 | Gintama Movie: Kanketsu-hen - Yorozuya yo Eien Nare       |     9.1  | Action, Comedy, Historical, Parody, Samurai, Sci-Fi, Shounen |\n"
     ]
    }
   ],
   "source": [
    "watched_anime_ids = [21855, 2154, 861, 12113, 122, 1594, 3588]\n",
    "get_anime_recommendation(watched_anime_ids, svm_model)"
   ]
  }
 ],
 "metadata": {
  "kernelspec": {
   "display_name": "base",
   "language": "python",
   "name": "python3"
  },
  "language_info": {
   "codemirror_mode": {
    "name": "ipython",
    "version": 3
   },
   "file_extension": ".py",
   "mimetype": "text/x-python",
   "name": "python",
   "nbconvert_exporter": "python",
   "pygments_lexer": "ipython3",
   "version": "3.9.12"
  },
  "orig_nbformat": 4
 },
 "nbformat": 4,
 "nbformat_minor": 2
}
